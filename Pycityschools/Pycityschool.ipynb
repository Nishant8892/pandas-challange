{
 "cells": [
  {
   "cell_type": "code",
   "execution_count": 1,
   "id": "af01c68a",
   "metadata": {},
   "outputs": [],
   "source": [
    "import pandas as pd"
   ]
  },
  {
   "cell_type": "code",
   "execution_count": 2,
   "id": "66cb96e1",
   "metadata": {},
   "outputs": [
    {
     "data": {
      "text/html": [
       "<div>\n",
       "<style scoped>\n",
       "    .dataframe tbody tr th:only-of-type {\n",
       "        vertical-align: middle;\n",
       "    }\n",
       "\n",
       "    .dataframe tbody tr th {\n",
       "        vertical-align: top;\n",
       "    }\n",
       "\n",
       "    .dataframe thead th {\n",
       "        text-align: right;\n",
       "    }\n",
       "</style>\n",
       "<table border=\"1\" class=\"dataframe\">\n",
       "  <thead>\n",
       "    <tr style=\"text-align: right;\">\n",
       "      <th></th>\n",
       "      <th>Student ID</th>\n",
       "      <th>student_name</th>\n",
       "      <th>gender</th>\n",
       "      <th>year</th>\n",
       "      <th>school_name</th>\n",
       "      <th>reading_score</th>\n",
       "      <th>maths_score</th>\n",
       "      <th>School ID</th>\n",
       "      <th>type</th>\n",
       "      <th>size</th>\n",
       "      <th>budget</th>\n",
       "    </tr>\n",
       "  </thead>\n",
       "  <tbody>\n",
       "    <tr>\n",
       "      <th>0</th>\n",
       "      <td>0</td>\n",
       "      <td>Paul Bradley</td>\n",
       "      <td>M</td>\n",
       "      <td>9</td>\n",
       "      <td>Huang High School</td>\n",
       "      <td>96</td>\n",
       "      <td>94</td>\n",
       "      <td>0</td>\n",
       "      <td>Government</td>\n",
       "      <td>2917</td>\n",
       "      <td>1910635</td>\n",
       "    </tr>\n",
       "    <tr>\n",
       "      <th>1</th>\n",
       "      <td>1</td>\n",
       "      <td>Victor Smith</td>\n",
       "      <td>M</td>\n",
       "      <td>12</td>\n",
       "      <td>Huang High School</td>\n",
       "      <td>90</td>\n",
       "      <td>43</td>\n",
       "      <td>0</td>\n",
       "      <td>Government</td>\n",
       "      <td>2917</td>\n",
       "      <td>1910635</td>\n",
       "    </tr>\n",
       "    <tr>\n",
       "      <th>2</th>\n",
       "      <td>2</td>\n",
       "      <td>Kevin Rodriguez</td>\n",
       "      <td>M</td>\n",
       "      <td>12</td>\n",
       "      <td>Huang High School</td>\n",
       "      <td>41</td>\n",
       "      <td>76</td>\n",
       "      <td>0</td>\n",
       "      <td>Government</td>\n",
       "      <td>2917</td>\n",
       "      <td>1910635</td>\n",
       "    </tr>\n",
       "    <tr>\n",
       "      <th>3</th>\n",
       "      <td>3</td>\n",
       "      <td>Richard Scott</td>\n",
       "      <td>M</td>\n",
       "      <td>12</td>\n",
       "      <td>Huang High School</td>\n",
       "      <td>89</td>\n",
       "      <td>86</td>\n",
       "      <td>0</td>\n",
       "      <td>Government</td>\n",
       "      <td>2917</td>\n",
       "      <td>1910635</td>\n",
       "    </tr>\n",
       "    <tr>\n",
       "      <th>4</th>\n",
       "      <td>4</td>\n",
       "      <td>Bonnie Ray</td>\n",
       "      <td>F</td>\n",
       "      <td>9</td>\n",
       "      <td>Huang High School</td>\n",
       "      <td>87</td>\n",
       "      <td>69</td>\n",
       "      <td>0</td>\n",
       "      <td>Government</td>\n",
       "      <td>2917</td>\n",
       "      <td>1910635</td>\n",
       "    </tr>\n",
       "  </tbody>\n",
       "</table>\n",
       "</div>"
      ],
      "text/plain": [
       "   Student ID     student_name gender  year        school_name  reading_score  \\\n",
       "0           0     Paul Bradley      M     9  Huang High School             96   \n",
       "1           1     Victor Smith      M    12  Huang High School             90   \n",
       "2           2  Kevin Rodriguez      M    12  Huang High School             41   \n",
       "3           3    Richard Scott      M    12  Huang High School             89   \n",
       "4           4       Bonnie Ray      F     9  Huang High School             87   \n",
       "\n",
       "   maths_score  School ID        type  size   budget  \n",
       "0           94          0  Government  2917  1910635  \n",
       "1           43          0  Government  2917  1910635  \n",
       "2           76          0  Government  2917  1910635  \n",
       "3           86          0  Government  2917  1910635  \n",
       "4           69          0  Government  2917  1910635  "
      ]
     },
     "execution_count": 2,
     "metadata": {},
     "output_type": "execute_result"
    }
   ],
   "source": [
    "school_data_to_load = \"..\\Resources\\schools_complete.csv\"\n",
    "student_data_to_load = \"..\\Resources\\students_complete.csv\"\n",
    "school_data_complete= pd.read_csv(school_data_to_load)\n",
    "student_data_complete= pd.read_csv(student_data_to_load)\n",
    "school_data_complete = pd.merge(student_data_complete, school_data_complete, how=\"left\", on=[\"school_name\", \"school_name\"])\n",
    "school_data_complete.head()\n"
   ]
  },
  {
   "cell_type": "code",
   "execution_count": 3,
   "id": "20c9f3ca",
   "metadata": {},
   "outputs": [
    {
     "data": {
      "text/plain": [
       "15"
      ]
     },
     "execution_count": 3,
     "metadata": {},
     "output_type": "execute_result"
    }
   ],
   "source": [
    "total_schools = school_data_complete[\"school_name\"].unique()\n",
    "total_sch = len(total_schools)\n",
    "total_sch"
   ]
  },
  {
   "cell_type": "code",
   "execution_count": 4,
   "id": "56495593",
   "metadata": {},
   "outputs": [
    {
     "data": {
      "text/plain": [
       "39170"
      ]
     },
     "execution_count": 4,
     "metadata": {},
     "output_type": "execute_result"
    }
   ],
   "source": [
    "total_students = school_data_complete[\"student_name\"]\n",
    "total_stu = len(total_students)\n",
    "total_stu"
   ]
  },
  {
   "cell_type": "code",
   "execution_count": 5,
   "id": "3e4091d5",
   "metadata": {},
   "outputs": [
    {
     "data": {
      "text/plain": [
       "24649428"
      ]
     },
     "execution_count": 5,
     "metadata": {},
     "output_type": "execute_result"
    }
   ],
   "source": [
    "total_budget = sum(school_data_complete[\"budget\"].unique())\n",
    "total_budget"
   ]
  },
  {
   "cell_type": "code",
   "execution_count": 6,
   "id": "18620f91",
   "metadata": {},
   "outputs": [
    {
     "data": {
      "text/plain": [
       "629.2935409752362"
      ]
     },
     "execution_count": 6,
     "metadata": {},
     "output_type": "execute_result"
    }
   ],
   "source": [
    "avg_budgetperstudent = total_budget/total_stu\n",
    "avg_budgetperstudent"
   ]
  },
  {
   "cell_type": "code",
   "execution_count": 7,
   "id": "c16dad6b",
   "metadata": {},
   "outputs": [
    {
     "data": {
      "text/plain": [
       "70.33819249425581"
      ]
     },
     "execution_count": 7,
     "metadata": {},
     "output_type": "execute_result"
    }
   ],
   "source": [
    "avg_maths_score = sum(school_data_complete[\"maths_score\"])/len(school_data_complete[\"maths_score\"])\n",
    "avg_maths_score"
   ]
  },
  {
   "cell_type": "code",
   "execution_count": 8,
   "id": "976a40ac",
   "metadata": {},
   "outputs": [
    {
     "data": {
      "text/plain": [
       "69.98013786060761"
      ]
     },
     "execution_count": 8,
     "metadata": {},
     "output_type": "execute_result"
    }
   ],
   "source": [
    "avg_reading_score = sum(school_data_complete[\"reading_score\"])/len(school_data_complete[\"reading_score\"])\n",
    "avg_reading_score"
   ]
  },
  {
   "cell_type": "code",
   "execution_count": 9,
   "id": "64e57d11",
   "metadata": {},
   "outputs": [
    {
     "data": {
      "text/plain": [
       "70.1591651774317"
      ]
     },
     "execution_count": 9,
     "metadata": {},
     "output_type": "execute_result"
    }
   ],
   "source": [
    "overall_passing_score = (avg_maths_score + avg_reading_score)/2\n",
    "overall_passing_score"
   ]
  },
  {
   "cell_type": "code",
   "execution_count": 10,
   "id": "31b12e59",
   "metadata": {},
   "outputs": [
    {
     "data": {
      "text/plain": [
       "86.07863160582077"
      ]
     },
     "execution_count": 10,
     "metadata": {},
     "output_type": "execute_result"
    }
   ],
   "source": [
    "passing_maths_percentage = (school_data_complete[school_data_complete['maths_score']>=50]['student_name'].count())/total_stu*100\n",
    "passing_maths_percentage"
   ]
  },
  {
   "cell_type": "code",
   "execution_count": 11,
   "id": "5c5bb347",
   "metadata": {},
   "outputs": [
    {
     "data": {
      "text/plain": [
       "84.42685728874139"
      ]
     },
     "execution_count": 11,
     "metadata": {},
     "output_type": "execute_result"
    }
   ],
   "source": [
    "passing_reading_percentage = (school_data_complete[school_data_complete['reading_score']>=50]['student_name'].count())/total_stu*100\n",
    "passing_reading_percentage"
   ]
  },
  {
   "cell_type": "code",
   "execution_count": 12,
   "id": "132bae07",
   "metadata": {},
   "outputs": [],
   "source": [
    "overall_passing = school_data_complete[(school_data_complete['maths_score'] >= 50) & (school_data_complete['reading_score']>=50)] \n",
    "overall_passing_count = overall_passing['student_name'].count()\n",
    "overall_passing_percentage = overall_passing_count / len(total_students) * 100"
   ]
  },
  {
   "cell_type": "code",
   "execution_count": 13,
   "id": "0539574b",
   "metadata": {},
   "outputs": [
    {
     "data": {
      "text/html": [
       "<div>\n",
       "<style scoped>\n",
       "    .dataframe tbody tr th:only-of-type {\n",
       "        vertical-align: middle;\n",
       "    }\n",
       "\n",
       "    .dataframe tbody tr th {\n",
       "        vertical-align: top;\n",
       "    }\n",
       "\n",
       "    .dataframe thead th {\n",
       "        text-align: right;\n",
       "    }\n",
       "</style>\n",
       "<table border=\"1\" class=\"dataframe\">\n",
       "  <thead>\n",
       "    <tr style=\"text-align: right;\">\n",
       "      <th></th>\n",
       "      <th>Total Schools</th>\n",
       "      <th>Total Students</th>\n",
       "      <th>Total Budget</th>\n",
       "      <th>Average Maths score</th>\n",
       "      <th>Average Reading score</th>\n",
       "      <th>Passing Maths Percentage</th>\n",
       "      <th>Passing Reading Percentage</th>\n",
       "      <th>Overall Passing Percentage</th>\n",
       "    </tr>\n",
       "  </thead>\n",
       "  <tbody>\n",
       "    <tr>\n",
       "      <th>0</th>\n",
       "      <td>15</td>\n",
       "      <td>39170</td>\n",
       "      <td>$24,649,428.00</td>\n",
       "      <td>70.338192</td>\n",
       "      <td>69.980138</td>\n",
       "      <td>86.078632</td>\n",
       "      <td>84.426857</td>\n",
       "      <td>72.808272</td>\n",
       "    </tr>\n",
       "  </tbody>\n",
       "</table>\n",
       "</div>"
      ],
      "text/plain": [
       "   Total Schools  Total Students    Total Budget  Average Maths score  \\\n",
       "0             15           39170  $24,649,428.00            70.338192   \n",
       "\n",
       "   Average Reading score  Passing Maths Percentage  \\\n",
       "0              69.980138                 86.078632   \n",
       "\n",
       "   Passing Reading Percentage  Overall Passing Percentage  \n",
       "0                   84.426857                   72.808272  "
      ]
     },
     "execution_count": 13,
     "metadata": {},
     "output_type": "execute_result"
    }
   ],
   "source": [
    "district_summary_df = pd.DataFrame({\n",
    "    \"Total Schools\": total_sch,\n",
    "    \"Total Students\": total_stu,\n",
    "    \"Total Budget\":'${:,.2f}'.format(total_budget),\n",
    "    \"Average Maths score\": avg_maths_score,\n",
    "    \"Average Reading score\": avg_reading_score,\n",
    "    \"Passing Maths Percentage\": passing_maths_percentage,\n",
    "    \"Passing Reading Percentage\": passing_reading_percentage,\n",
    "    \"Overall Passing Percentage\": overall_passing_percentage\n",
    "    }, index=[0])\n",
    "district_summary_df"
   ]
  },
  {
   "cell_type": "code",
   "execution_count": 14,
   "id": "552c842d",
   "metadata": {},
   "outputs": [
    {
     "data": {
      "text/plain": [
       "school_name\n",
       "Bailey High School       4976\n",
       "Cabrera High School      1858\n",
       "Figueroa High School     2949\n",
       "Ford High School         2739\n",
       "Griffin High School      1468\n",
       "Hernandez High School    4635\n",
       "Holden High School        427\n",
       "Huang High School        2917\n",
       "Johnson High School      4761\n",
       "Pena High School          962\n",
       "Rodriguez High School    3999\n",
       "Shelton High School      1761\n",
       "Thomas High School       1635\n",
       "Wilson High School       2283\n",
       "Wright High School       1800\n",
       "dtype: int64"
      ]
     },
     "execution_count": 14,
     "metadata": {},
     "output_type": "execute_result"
    }
   ],
   "source": [
    "grouped_school = school_data_complete.groupby(['school_name'])\n",
    "total_student_by_school = grouped_school.size()\n",
    "total_student_by_school\n",
    "\n",
    "\n",
    "\n"
   ]
  },
  {
   "cell_type": "code",
   "execution_count": 15,
   "id": "f8ee760d",
   "metadata": {},
   "outputs": [
    {
     "data": {
      "text/plain": [
       "school_name\n",
       "Bailey High School        Government\n",
       "Cabrera High School      Independent\n",
       "Figueroa High School      Government\n",
       "Ford High School          Government\n",
       "Griffin High School      Independent\n",
       "Hernandez High School     Government\n",
       "Holden High School       Independent\n",
       "Huang High School         Government\n",
       "Johnson High School       Government\n",
       "Pena High School         Independent\n",
       "Rodriguez High School     Government\n",
       "Shelton High School      Independent\n",
       "Thomas High School       Independent\n",
       "Wilson High School       Independent\n",
       "Wright High School       Independent\n",
       "Name: type, dtype: object"
      ]
     },
     "execution_count": 15,
     "metadata": {},
     "output_type": "execute_result"
    }
   ],
   "source": [
    "school_type = grouped_school['type'].first()\n",
    "school_type"
   ]
  },
  {
   "cell_type": "code",
   "execution_count": 16,
   "id": "bf9dd961",
   "metadata": {},
   "outputs": [
    {
     "data": {
      "text/plain": [
       "school_name\n",
       "Bailey High School       3124928\n",
       "Cabrera High School      1081356\n",
       "Figueroa High School     1884411\n",
       "Ford High School         1763916\n",
       "Griffin High School       917500\n",
       "Hernandez High School    3022020\n",
       "Holden High School        248087\n",
       "Huang High School        1910635\n",
       "Johnson High School      3094650\n",
       "Pena High School          585858\n",
       "Rodriguez High School    2547363\n",
       "Shelton High School      1056600\n",
       "Thomas High School       1043130\n",
       "Wilson High School       1319574\n",
       "Wright High School       1049400\n",
       "Name: budget, dtype: int64"
      ]
     },
     "execution_count": 16,
     "metadata": {},
     "output_type": "execute_result"
    }
   ],
   "source": [
    "total_budget = grouped_school['budget'].first()\n",
    "total_budget"
   ]
  },
  {
   "cell_type": "code",
   "execution_count": 17,
   "id": "8910308d",
   "metadata": {},
   "outputs": [
    {
     "data": {
      "text/plain": [
       "school_name\n",
       "Bailey High School       628.0\n",
       "Cabrera High School      582.0\n",
       "Figueroa High School     639.0\n",
       "Ford High School         644.0\n",
       "Griffin High School      625.0\n",
       "Hernandez High School    652.0\n",
       "Holden High School       581.0\n",
       "Huang High School        655.0\n",
       "Johnson High School      650.0\n",
       "Pena High School         609.0\n",
       "Rodriguez High School    637.0\n",
       "Shelton High School      600.0\n",
       "Thomas High School       638.0\n",
       "Wilson High School       578.0\n",
       "Wright High School       583.0\n",
       "dtype: float64"
      ]
     },
     "execution_count": 17,
     "metadata": {},
     "output_type": "execute_result"
    }
   ],
   "source": [
    "total_budget_per_student = total_budget/total_student_by_school\n",
    "total_budget_per_student"
   ]
  },
  {
   "cell_type": "code",
   "execution_count": 18,
   "id": "7f574dfe",
   "metadata": {},
   "outputs": [
    {
     "data": {
      "text/plain": [
       "school_name\n",
       "Bailey High School       72.352894\n",
       "Cabrera High School      71.657158\n",
       "Figueroa High School     68.698542\n",
       "Ford High School         69.091274\n",
       "Griffin High School      71.788147\n",
       "Hernandez High School    68.874865\n",
       "Holden High School       72.583138\n",
       "Huang High School        68.935207\n",
       "Johnson High School      68.843100\n",
       "Pena High School         72.088358\n",
       "Rodriguez High School    72.047762\n",
       "Shelton High School      72.034072\n",
       "Thomas High School       69.581651\n",
       "Wilson High School       69.170828\n",
       "Wright High School       72.047222\n",
       "Name: maths_score, dtype: float64"
      ]
     },
     "execution_count": 18,
     "metadata": {},
     "output_type": "execute_result"
    }
   ],
   "source": [
    "avg_maths_by_school=grouped_school[\"maths_score\"].mean()\n",
    "avg_maths_by_school"
   ]
  },
  {
   "cell_type": "code",
   "execution_count": 19,
   "id": "7204a98c",
   "metadata": {},
   "outputs": [
    {
     "data": {
      "text/plain": [
       "school_name\n",
       "Bailey High School       71.008842\n",
       "Cabrera High School      71.359526\n",
       "Figueroa High School     69.077993\n",
       "Ford High School         69.572472\n",
       "Griffin High School      71.245232\n",
       "Hernandez High School    69.186408\n",
       "Holden High School       71.660422\n",
       "Huang High School        68.910525\n",
       "Johnson High School      69.039277\n",
       "Pena High School         71.613306\n",
       "Rodriguez High School    70.935984\n",
       "Shelton High School      70.257808\n",
       "Thomas High School       69.768807\n",
       "Wilson High School       68.876916\n",
       "Wright High School       70.969444\n",
       "Name: reading_score, dtype: float64"
      ]
     },
     "execution_count": 19,
     "metadata": {},
     "output_type": "execute_result"
    }
   ],
   "source": [
    "avg_reading_by_school=grouped_school[\"reading_score\"].mean()\n",
    "avg_reading_by_school"
   ]
  },
  {
   "cell_type": "code",
   "execution_count": 20,
   "id": "5c3a7908",
   "metadata": {},
   "outputs": [
    {
     "data": {
      "text/plain": [
       "school_name\n",
       "Bailey High School       91.639871\n",
       "Cabrera High School      90.850377\n",
       "Figueroa High School     81.654798\n",
       "Ford High School         82.438846\n",
       "Griffin High School      91.212534\n",
       "Hernandez High School    80.949299\n",
       "Holden High School       89.929742\n",
       "Huang High School        81.693521\n",
       "Johnson High School      82.062592\n",
       "Pena High School         91.683992\n",
       "Rodriguez High School    90.797699\n",
       "Shelton High School      91.538898\n",
       "Thomas High School       83.853211\n",
       "Wilson High School       82.785808\n",
       "Wright High School       91.777778\n",
       "dtype: float64"
      ]
     },
     "execution_count": 20,
     "metadata": {},
     "output_type": "execute_result"
    }
   ],
   "source": [
    "grouped_passing_maths = school_data_complete[school_data_complete['maths_score']>=50].groupby(['school_name']).size()\n",
    "percent_passing_maths = (grouped_passing_maths/total_student_by_school)*100\n",
    "percent_passing_maths"
   ]
  },
  {
   "cell_type": "code",
   "execution_count": 21,
   "id": "e40a33b2",
   "metadata": {},
   "outputs": [
    {
     "data": {
      "text/plain": [
       "school_name\n",
       "Bailey High School       87.379421\n",
       "Cabrera High School      89.074273\n",
       "Figueroa High School     82.807731\n",
       "Ford High School         82.219788\n",
       "Griffin High School      88.487738\n",
       "Hernandez High School    81.877023\n",
       "Holden High School       88.524590\n",
       "Huang High School        81.453548\n",
       "Johnson High School      81.978576\n",
       "Pena High School         86.590437\n",
       "Rodriguez High School    87.396849\n",
       "Shelton High School      86.712095\n",
       "Thomas High School       82.629969\n",
       "Wilson High School       81.296540\n",
       "Wright High School       86.666667\n",
       "dtype: float64"
      ]
     },
     "execution_count": 21,
     "metadata": {},
     "output_type": "execute_result"
    }
   ],
   "source": [
    "grouped_passing_reading = school_data_complete[school_data_complete['reading_score']>=50].groupby(['school_name']).size()\n",
    "percent_passing_reading = (grouped_passing_reading/total_student_by_school)*100\n",
    "percent_passing_reading"
   ]
  },
  {
   "cell_type": "code",
   "execution_count": 22,
   "id": "7435fd14",
   "metadata": {},
   "outputs": [
    {
     "data": {
      "text/plain": [
       "school_name\n",
       "Bailey High School       89.509646\n",
       "Cabrera High School      89.962325\n",
       "Figueroa High School     82.231265\n",
       "Ford High School         82.329317\n",
       "Griffin High School      89.850136\n",
       "Hernandez High School    81.413161\n",
       "Holden High School       89.227166\n",
       "Huang High School        81.573534\n",
       "Johnson High School      82.020584\n",
       "Pena High School         89.137214\n",
       "Rodriguez High School    89.097274\n",
       "Shelton High School      89.125497\n",
       "Thomas High School       83.241590\n",
       "Wilson High School       82.041174\n",
       "Wright High School       89.222222\n",
       "dtype: float64"
      ]
     },
     "execution_count": 22,
     "metadata": {},
     "output_type": "execute_result"
    }
   ],
   "source": [
    "percent_overall_passing = (percent_passing_maths + percent_passing_reading) / 2\n",
    "percent_overall_passing"
   ]
  },
  {
   "cell_type": "code",
   "execution_count": 23,
   "id": "b0856e47",
   "metadata": {},
   "outputs": [
    {
     "data": {
      "text/html": [
       "<div>\n",
       "<style scoped>\n",
       "    .dataframe tbody tr th:only-of-type {\n",
       "        vertical-align: middle;\n",
       "    }\n",
       "\n",
       "    .dataframe tbody tr th {\n",
       "        vertical-align: top;\n",
       "    }\n",
       "\n",
       "    .dataframe thead th {\n",
       "        text-align: right;\n",
       "    }\n",
       "</style>\n",
       "<table border=\"1\" class=\"dataframe\">\n",
       "  <thead>\n",
       "    <tr style=\"text-align: right;\">\n",
       "      <th></th>\n",
       "      <th>School Type</th>\n",
       "      <th>Total Students</th>\n",
       "      <th>Total School Budget</th>\n",
       "      <th>Per Student Budget</th>\n",
       "      <th>Average Math Score</th>\n",
       "      <th>Average Reading Score</th>\n",
       "      <th>Percent Passing Maths</th>\n",
       "      <th>Percent Passing Reading</th>\n",
       "      <th>Percent Overall Passing Rate</th>\n",
       "    </tr>\n",
       "    <tr>\n",
       "      <th>school_name</th>\n",
       "      <th></th>\n",
       "      <th></th>\n",
       "      <th></th>\n",
       "      <th></th>\n",
       "      <th></th>\n",
       "      <th></th>\n",
       "      <th></th>\n",
       "      <th></th>\n",
       "      <th></th>\n",
       "    </tr>\n",
       "  </thead>\n",
       "  <tbody>\n",
       "    <tr>\n",
       "      <th>Bailey High School</th>\n",
       "      <td>Government</td>\n",
       "      <td>4976</td>\n",
       "      <td>$3,124,928.00</td>\n",
       "      <td>$628.00</td>\n",
       "      <td>72.352894</td>\n",
       "      <td>71.008842</td>\n",
       "      <td>91.639871</td>\n",
       "      <td>87.379421</td>\n",
       "      <td>89.509646</td>\n",
       "    </tr>\n",
       "    <tr>\n",
       "      <th>Cabrera High School</th>\n",
       "      <td>Independent</td>\n",
       "      <td>1858</td>\n",
       "      <td>$1,081,356.00</td>\n",
       "      <td>$582.00</td>\n",
       "      <td>71.657158</td>\n",
       "      <td>71.359526</td>\n",
       "      <td>90.850377</td>\n",
       "      <td>89.074273</td>\n",
       "      <td>89.962325</td>\n",
       "    </tr>\n",
       "    <tr>\n",
       "      <th>Figueroa High School</th>\n",
       "      <td>Government</td>\n",
       "      <td>2949</td>\n",
       "      <td>$1,884,411.00</td>\n",
       "      <td>$639.00</td>\n",
       "      <td>68.698542</td>\n",
       "      <td>69.077993</td>\n",
       "      <td>81.654798</td>\n",
       "      <td>82.807731</td>\n",
       "      <td>82.231265</td>\n",
       "    </tr>\n",
       "    <tr>\n",
       "      <th>Ford High School</th>\n",
       "      <td>Government</td>\n",
       "      <td>2739</td>\n",
       "      <td>$1,763,916.00</td>\n",
       "      <td>$644.00</td>\n",
       "      <td>69.091274</td>\n",
       "      <td>69.572472</td>\n",
       "      <td>82.438846</td>\n",
       "      <td>82.219788</td>\n",
       "      <td>82.329317</td>\n",
       "    </tr>\n",
       "    <tr>\n",
       "      <th>Griffin High School</th>\n",
       "      <td>Independent</td>\n",
       "      <td>1468</td>\n",
       "      <td>$917,500.00</td>\n",
       "      <td>$625.00</td>\n",
       "      <td>71.788147</td>\n",
       "      <td>71.245232</td>\n",
       "      <td>91.212534</td>\n",
       "      <td>88.487738</td>\n",
       "      <td>89.850136</td>\n",
       "    </tr>\n",
       "  </tbody>\n",
       "</table>\n",
       "</div>"
      ],
      "text/plain": [
       "                      School Type  Total Students Total School Budget  \\\n",
       "school_name                                                             \n",
       "Bailey High School     Government            4976       $3,124,928.00   \n",
       "Cabrera High School   Independent            1858       $1,081,356.00   \n",
       "Figueroa High School   Government            2949       $1,884,411.00   \n",
       "Ford High School       Government            2739       $1,763,916.00   \n",
       "Griffin High School   Independent            1468         $917,500.00   \n",
       "\n",
       "                     Per Student Budget  Average Math Score  \\\n",
       "school_name                                                   \n",
       "Bailey High School              $628.00           72.352894   \n",
       "Cabrera High School             $582.00           71.657158   \n",
       "Figueroa High School            $639.00           68.698542   \n",
       "Ford High School                $644.00           69.091274   \n",
       "Griffin High School             $625.00           71.788147   \n",
       "\n",
       "                      Average Reading Score  Percent Passing Maths  \\\n",
       "school_name                                                          \n",
       "Bailey High School                71.008842              91.639871   \n",
       "Cabrera High School               71.359526              90.850377   \n",
       "Figueroa High School              69.077993              81.654798   \n",
       "Ford High School                  69.572472              82.438846   \n",
       "Griffin High School               71.245232              91.212534   \n",
       "\n",
       "                      Percent Passing Reading  Percent Overall Passing Rate  \n",
       "school_name                                                                  \n",
       "Bailey High School                  87.379421                     89.509646  \n",
       "Cabrera High School                 89.074273                     89.962325  \n",
       "Figueroa High School                82.807731                     82.231265  \n",
       "Ford High School                    82.219788                     82.329317  \n",
       "Griffin High School                 88.487738                     89.850136  "
      ]
     },
     "execution_count": 23,
     "metadata": {},
     "output_type": "execute_result"
    }
   ],
   "source": [
    "school={\n",
    "    'School Type': school_type,\n",
    "    'Total Students':total_student_by_school,\n",
    "    'Total School Budget':total_budget,\n",
    "    'Per Student Budget':total_budget_per_student,\n",
    "    'Average Math Score': avg_maths_by_school,\n",
    "    'Average Reading Score': avg_reading_by_school,\n",
    "    'Percent Passing Maths': percent_passing_maths,\n",
    "    'Percent Passing Reading': percent_passing_reading,\n",
    "    'Percent Overall Passing Rate': percent_overall_passing\n",
    "}\n",
    "school_summary = pd.DataFrame(school)\n",
    "\n",
    "school_summary[\"Total School Budget\"] = school_summary[\"Total School Budget\"].map(\"${:,.2f}\".format)\n",
    "school_summary[\"Per Student Budget\"] = school_summary[\"Per Student Budget\"].map(\"${:,.2f}\".format)\n",
    "school_summary.head()"
   ]
  },
  {
   "cell_type": "code",
   "execution_count": 24,
   "id": "10f38b7f",
   "metadata": {},
   "outputs": [
    {
     "data": {
      "text/html": [
       "<div>\n",
       "<style scoped>\n",
       "    .dataframe tbody tr th:only-of-type {\n",
       "        vertical-align: middle;\n",
       "    }\n",
       "\n",
       "    .dataframe tbody tr th {\n",
       "        vertical-align: top;\n",
       "    }\n",
       "\n",
       "    .dataframe thead th {\n",
       "        text-align: right;\n",
       "    }\n",
       "</style>\n",
       "<table border=\"1\" class=\"dataframe\">\n",
       "  <thead>\n",
       "    <tr style=\"text-align: right;\">\n",
       "      <th></th>\n",
       "      <th>School Type</th>\n",
       "      <th>Total Students</th>\n",
       "      <th>Total School Budget</th>\n",
       "      <th>Per Student Budget</th>\n",
       "      <th>Average Math Score</th>\n",
       "      <th>Average Reading Score</th>\n",
       "      <th>Percent Passing Maths</th>\n",
       "      <th>Percent Passing Reading</th>\n",
       "      <th>Percent Overall Passing Rate</th>\n",
       "    </tr>\n",
       "    <tr>\n",
       "      <th>school_name</th>\n",
       "      <th></th>\n",
       "      <th></th>\n",
       "      <th></th>\n",
       "      <th></th>\n",
       "      <th></th>\n",
       "      <th></th>\n",
       "      <th></th>\n",
       "      <th></th>\n",
       "      <th></th>\n",
       "    </tr>\n",
       "  </thead>\n",
       "  <tbody>\n",
       "    <tr>\n",
       "      <th>Cabrera High School</th>\n",
       "      <td>Independent</td>\n",
       "      <td>1858</td>\n",
       "      <td>$1,081,356.00</td>\n",
       "      <td>$582.00</td>\n",
       "      <td>71.657158</td>\n",
       "      <td>71.359526</td>\n",
       "      <td>90.850377</td>\n",
       "      <td>89.074273</td>\n",
       "      <td>89.962325</td>\n",
       "    </tr>\n",
       "    <tr>\n",
       "      <th>Griffin High School</th>\n",
       "      <td>Independent</td>\n",
       "      <td>1468</td>\n",
       "      <td>$917,500.00</td>\n",
       "      <td>$625.00</td>\n",
       "      <td>71.788147</td>\n",
       "      <td>71.245232</td>\n",
       "      <td>91.212534</td>\n",
       "      <td>88.487738</td>\n",
       "      <td>89.850136</td>\n",
       "    </tr>\n",
       "    <tr>\n",
       "      <th>Bailey High School</th>\n",
       "      <td>Government</td>\n",
       "      <td>4976</td>\n",
       "      <td>$3,124,928.00</td>\n",
       "      <td>$628.00</td>\n",
       "      <td>72.352894</td>\n",
       "      <td>71.008842</td>\n",
       "      <td>91.639871</td>\n",
       "      <td>87.379421</td>\n",
       "      <td>89.509646</td>\n",
       "    </tr>\n",
       "    <tr>\n",
       "      <th>Holden High School</th>\n",
       "      <td>Independent</td>\n",
       "      <td>427</td>\n",
       "      <td>$248,087.00</td>\n",
       "      <td>$581.00</td>\n",
       "      <td>72.583138</td>\n",
       "      <td>71.660422</td>\n",
       "      <td>89.929742</td>\n",
       "      <td>88.524590</td>\n",
       "      <td>89.227166</td>\n",
       "    </tr>\n",
       "    <tr>\n",
       "      <th>Wright High School</th>\n",
       "      <td>Independent</td>\n",
       "      <td>1800</td>\n",
       "      <td>$1,049,400.00</td>\n",
       "      <td>$583.00</td>\n",
       "      <td>72.047222</td>\n",
       "      <td>70.969444</td>\n",
       "      <td>91.777778</td>\n",
       "      <td>86.666667</td>\n",
       "      <td>89.222222</td>\n",
       "    </tr>\n",
       "  </tbody>\n",
       "</table>\n",
       "</div>"
      ],
      "text/plain": [
       "                     School Type  Total Students Total School Budget  \\\n",
       "school_name                                                            \n",
       "Cabrera High School  Independent            1858       $1,081,356.00   \n",
       "Griffin High School  Independent            1468         $917,500.00   \n",
       "Bailey High School    Government            4976       $3,124,928.00   \n",
       "Holden High School   Independent             427         $248,087.00   \n",
       "Wright High School   Independent            1800       $1,049,400.00   \n",
       "\n",
       "                    Per Student Budget  Average Math Score  \\\n",
       "school_name                                                  \n",
       "Cabrera High School            $582.00           71.657158   \n",
       "Griffin High School            $625.00           71.788147   \n",
       "Bailey High School             $628.00           72.352894   \n",
       "Holden High School             $581.00           72.583138   \n",
       "Wright High School             $583.00           72.047222   \n",
       "\n",
       "                     Average Reading Score  Percent Passing Maths  \\\n",
       "school_name                                                         \n",
       "Cabrera High School              71.359526              90.850377   \n",
       "Griffin High School              71.245232              91.212534   \n",
       "Bailey High School               71.008842              91.639871   \n",
       "Holden High School               71.660422              89.929742   \n",
       "Wright High School               70.969444              91.777778   \n",
       "\n",
       "                     Percent Passing Reading  Percent Overall Passing Rate  \n",
       "school_name                                                                 \n",
       "Cabrera High School                89.074273                     89.962325  \n",
       "Griffin High School                88.487738                     89.850136  \n",
       "Bailey High School                 87.379421                     89.509646  \n",
       "Holden High School                 88.524590                     89.227166  \n",
       "Wright High School                 86.666667                     89.222222  "
      ]
     },
     "execution_count": 24,
     "metadata": {},
     "output_type": "execute_result"
    }
   ],
   "source": [
    "top_summary = school_summary.loc[school_summary['Percent Overall Passing Rate'] > 5]\n",
    "top_summary.sort_values(['Percent Overall Passing Rate'], ascending=False).head()"
   ]
  },
  {
   "cell_type": "code",
   "execution_count": 25,
   "id": "7c2c93c8",
   "metadata": {
    "scrolled": true
   },
   "outputs": [
    {
     "data": {
      "text/html": [
       "<div>\n",
       "<style scoped>\n",
       "    .dataframe tbody tr th:only-of-type {\n",
       "        vertical-align: middle;\n",
       "    }\n",
       "\n",
       "    .dataframe tbody tr th {\n",
       "        vertical-align: top;\n",
       "    }\n",
       "\n",
       "    .dataframe thead th {\n",
       "        text-align: right;\n",
       "    }\n",
       "</style>\n",
       "<table border=\"1\" class=\"dataframe\">\n",
       "  <thead>\n",
       "    <tr style=\"text-align: right;\">\n",
       "      <th></th>\n",
       "      <th>School Type</th>\n",
       "      <th>Total Students</th>\n",
       "      <th>Total School Budget</th>\n",
       "      <th>Per Student Budget</th>\n",
       "      <th>Average Math Score</th>\n",
       "      <th>Average Reading Score</th>\n",
       "      <th>Percent Passing Maths</th>\n",
       "      <th>Percent Passing Reading</th>\n",
       "      <th>Percent Overall Passing Rate</th>\n",
       "    </tr>\n",
       "    <tr>\n",
       "      <th>school_name</th>\n",
       "      <th></th>\n",
       "      <th></th>\n",
       "      <th></th>\n",
       "      <th></th>\n",
       "      <th></th>\n",
       "      <th></th>\n",
       "      <th></th>\n",
       "      <th></th>\n",
       "      <th></th>\n",
       "    </tr>\n",
       "  </thead>\n",
       "  <tbody>\n",
       "    <tr>\n",
       "      <th>Hernandez High School</th>\n",
       "      <td>Government</td>\n",
       "      <td>4635</td>\n",
       "      <td>$3,022,020.00</td>\n",
       "      <td>$652.00</td>\n",
       "      <td>68.874865</td>\n",
       "      <td>69.186408</td>\n",
       "      <td>80.949299</td>\n",
       "      <td>81.877023</td>\n",
       "      <td>81.413161</td>\n",
       "    </tr>\n",
       "    <tr>\n",
       "      <th>Huang High School</th>\n",
       "      <td>Government</td>\n",
       "      <td>2917</td>\n",
       "      <td>$1,910,635.00</td>\n",
       "      <td>$655.00</td>\n",
       "      <td>68.935207</td>\n",
       "      <td>68.910525</td>\n",
       "      <td>81.693521</td>\n",
       "      <td>81.453548</td>\n",
       "      <td>81.573534</td>\n",
       "    </tr>\n",
       "    <tr>\n",
       "      <th>Johnson High School</th>\n",
       "      <td>Government</td>\n",
       "      <td>4761</td>\n",
       "      <td>$3,094,650.00</td>\n",
       "      <td>$650.00</td>\n",
       "      <td>68.843100</td>\n",
       "      <td>69.039277</td>\n",
       "      <td>82.062592</td>\n",
       "      <td>81.978576</td>\n",
       "      <td>82.020584</td>\n",
       "    </tr>\n",
       "    <tr>\n",
       "      <th>Wilson High School</th>\n",
       "      <td>Independent</td>\n",
       "      <td>2283</td>\n",
       "      <td>$1,319,574.00</td>\n",
       "      <td>$578.00</td>\n",
       "      <td>69.170828</td>\n",
       "      <td>68.876916</td>\n",
       "      <td>82.785808</td>\n",
       "      <td>81.296540</td>\n",
       "      <td>82.041174</td>\n",
       "    </tr>\n",
       "    <tr>\n",
       "      <th>Figueroa High School</th>\n",
       "      <td>Government</td>\n",
       "      <td>2949</td>\n",
       "      <td>$1,884,411.00</td>\n",
       "      <td>$639.00</td>\n",
       "      <td>68.698542</td>\n",
       "      <td>69.077993</td>\n",
       "      <td>81.654798</td>\n",
       "      <td>82.807731</td>\n",
       "      <td>82.231265</td>\n",
       "    </tr>\n",
       "  </tbody>\n",
       "</table>\n",
       "</div>"
      ],
      "text/plain": [
       "                       School Type  Total Students Total School Budget  \\\n",
       "school_name                                                              \n",
       "Hernandez High School   Government            4635       $3,022,020.00   \n",
       "Huang High School       Government            2917       $1,910,635.00   \n",
       "Johnson High School     Government            4761       $3,094,650.00   \n",
       "Wilson High School     Independent            2283       $1,319,574.00   \n",
       "Figueroa High School    Government            2949       $1,884,411.00   \n",
       "\n",
       "                      Per Student Budget  Average Math Score  \\\n",
       "school_name                                                    \n",
       "Hernandez High School            $652.00           68.874865   \n",
       "Huang High School                $655.00           68.935207   \n",
       "Johnson High School              $650.00           68.843100   \n",
       "Wilson High School               $578.00           69.170828   \n",
       "Figueroa High School             $639.00           68.698542   \n",
       "\n",
       "                       Average Reading Score  Percent Passing Maths  \\\n",
       "school_name                                                           \n",
       "Hernandez High School              69.186408              80.949299   \n",
       "Huang High School                  68.910525              81.693521   \n",
       "Johnson High School                69.039277              82.062592   \n",
       "Wilson High School                 68.876916              82.785808   \n",
       "Figueroa High School               69.077993              81.654798   \n",
       "\n",
       "                       Percent Passing Reading  Percent Overall Passing Rate  \n",
       "school_name                                                                   \n",
       "Hernandez High School                81.877023                     81.413161  \n",
       "Huang High School                    81.453548                     81.573534  \n",
       "Johnson High School                  81.978576                     82.020584  \n",
       "Wilson High School                   81.296540                     82.041174  \n",
       "Figueroa High School                 82.807731                     82.231265  "
      ]
     },
     "execution_count": 25,
     "metadata": {},
     "output_type": "execute_result"
    }
   ],
   "source": [
    "bottom_performing_schools = (school_summary.sort_values(['Percent Overall Passing Rate'], ascending=True)).head()\n",
    "bottom_performing_schools"
   ]
  },
  {
   "cell_type": "code",
   "execution_count": 26,
   "id": "540f9b4d",
   "metadata": {},
   "outputs": [],
   "source": [
    "spending_bins = [0, 585, 630, 645, 685]\n",
    "group_names = [\"<$585\", \"$585-630\", \"$630-645\", \"$645-680\"]"
   ]
  },
  {
   "cell_type": "code",
   "execution_count": 27,
   "id": "62640ae5",
   "metadata": {},
   "outputs": [],
   "source": [
    "school_summary[\"Per Student Budget\"] = school_summary[\"Per Student Budget\"].apply(lambda x: x.replace('$', '').replace(',', '')).astype('float')"
   ]
  },
  {
   "cell_type": "code",
   "execution_count": 28,
   "id": "32995a63",
   "metadata": {},
   "outputs": [],
   "source": [
    "school_summary = school_summary.reset_index()"
   ]
  },
  {
   "cell_type": "code",
   "execution_count": 29,
   "id": "20499c72",
   "metadata": {},
   "outputs": [],
   "source": [
    "school_summary[\"Spending Ranges (Per Student)\"] = pd.cut(school_summary[\"Per Student Budget\"], spending_bins, labels=group_names)\n"
   ]
  },
  {
   "cell_type": "code",
   "execution_count": 30,
   "id": "a010687e",
   "metadata": {},
   "outputs": [],
   "source": [
    "grouped_spend_df = school_summary.groupby([\"Spending Ranges (Per Student)\"]) "
   ]
  },
  {
   "cell_type": "code",
   "execution_count": 31,
   "id": "a7414240",
   "metadata": {},
   "outputs": [],
   "source": [
    "spending_summary_df = grouped_spend_df.mean()\n"
   ]
  },
  {
   "cell_type": "code",
   "execution_count": 32,
   "id": "19dd5343",
   "metadata": {},
   "outputs": [
    {
     "data": {
      "text/html": [
       "<div>\n",
       "<style scoped>\n",
       "    .dataframe tbody tr th:only-of-type {\n",
       "        vertical-align: middle;\n",
       "    }\n",
       "\n",
       "    .dataframe tbody tr th {\n",
       "        vertical-align: top;\n",
       "    }\n",
       "\n",
       "    .dataframe thead th {\n",
       "        text-align: right;\n",
       "    }\n",
       "</style>\n",
       "<table border=\"1\" class=\"dataframe\">\n",
       "  <thead>\n",
       "    <tr style=\"text-align: right;\">\n",
       "      <th></th>\n",
       "      <th>Average Math Score</th>\n",
       "      <th>Average Reading Score</th>\n",
       "      <th>Percent Passing Maths</th>\n",
       "      <th>Percent Passing Reading</th>\n",
       "      <th>Percent Overall Passing Rate</th>\n",
       "    </tr>\n",
       "    <tr>\n",
       "      <th>Spending Ranges (Per Student)</th>\n",
       "      <th></th>\n",
       "      <th></th>\n",
       "      <th></th>\n",
       "      <th></th>\n",
       "      <th></th>\n",
       "    </tr>\n",
       "  </thead>\n",
       "  <tbody>\n",
       "    <tr>\n",
       "      <th>&lt;$585</th>\n",
       "      <td>71.364587</td>\n",
       "      <td>70.716577</td>\n",
       "      <td>88.835926</td>\n",
       "      <td>86.390517</td>\n",
       "      <td>87.613222</td>\n",
       "    </tr>\n",
       "    <tr>\n",
       "      <th>$585-630</th>\n",
       "      <td>72.065868</td>\n",
       "      <td>71.031297</td>\n",
       "      <td>91.518824</td>\n",
       "      <td>87.292423</td>\n",
       "      <td>89.405623</td>\n",
       "    </tr>\n",
       "    <tr>\n",
       "      <th>$630-645</th>\n",
       "      <td>69.854807</td>\n",
       "      <td>69.838814</td>\n",
       "      <td>84.686139</td>\n",
       "      <td>83.763585</td>\n",
       "      <td>84.224862</td>\n",
       "    </tr>\n",
       "    <tr>\n",
       "      <th>$645-680</th>\n",
       "      <td>68.884391</td>\n",
       "      <td>69.045403</td>\n",
       "      <td>81.568470</td>\n",
       "      <td>81.769716</td>\n",
       "      <td>81.669093</td>\n",
       "    </tr>\n",
       "  </tbody>\n",
       "</table>\n",
       "</div>"
      ],
      "text/plain": [
       "                               Average Math Score  Average Reading Score  \\\n",
       "Spending Ranges (Per Student)                                              \n",
       "<$585                                   71.364587              70.716577   \n",
       "$585-630                                72.065868              71.031297   \n",
       "$630-645                                69.854807              69.838814   \n",
       "$645-680                                68.884391              69.045403   \n",
       "\n",
       "                               Percent Passing Maths  Percent Passing Reading  \\\n",
       "Spending Ranges (Per Student)                                                   \n",
       "<$585                                      88.835926                86.390517   \n",
       "$585-630                                   91.518824                87.292423   \n",
       "$630-645                                   84.686139                83.763585   \n",
       "$645-680                                   81.568470                81.769716   \n",
       "\n",
       "                               Percent Overall Passing Rate  \n",
       "Spending Ranges (Per Student)                                \n",
       "<$585                                             87.613222  \n",
       "$585-630                                          89.405623  \n",
       "$630-645                                          84.224862  \n",
       "$645-680                                          81.669093  "
      ]
     },
     "execution_count": 32,
     "metadata": {},
     "output_type": "execute_result"
    }
   ],
   "source": [
    "spending_summary_df[[\"Average Math Score\",\n",
    "                    \"Average Reading Score\",\n",
    "                    \"Percent Passing Maths\",\n",
    "                    \"Percent Passing Reading\",\n",
    "                    \"Percent Overall Passing Rate\"]]"
   ]
  },
  {
   "cell_type": "code",
   "execution_count": 33,
   "id": "da8ac053",
   "metadata": {},
   "outputs": [],
   "source": [
    "size_bins = [0, 1000, 2000, 5000]\n",
    "group_names = [\"Small (<1000)\", \"Medium (1000-2000)\", \"Large (2000-5000)\"]"
   ]
  },
  {
   "cell_type": "code",
   "execution_count": 34,
   "id": "94d92fd4",
   "metadata": {},
   "outputs": [],
   "source": [
    "school_summary = school_summary.reset_index()"
   ]
  },
  {
   "cell_type": "code",
   "execution_count": 35,
   "id": "8b37cd1f",
   "metadata": {},
   "outputs": [
    {
     "data": {
      "text/html": [
       "<div>\n",
       "<style scoped>\n",
       "    .dataframe tbody tr th:only-of-type {\n",
       "        vertical-align: middle;\n",
       "    }\n",
       "\n",
       "    .dataframe tbody tr th {\n",
       "        vertical-align: top;\n",
       "    }\n",
       "\n",
       "    .dataframe thead th {\n",
       "        text-align: right;\n",
       "    }\n",
       "</style>\n",
       "<table border=\"1\" class=\"dataframe\">\n",
       "  <thead>\n",
       "    <tr style=\"text-align: right;\">\n",
       "      <th></th>\n",
       "      <th>Average Math Score</th>\n",
       "      <th>Average Reading Score</th>\n",
       "      <th>Percent Passing Maths</th>\n",
       "      <th>Percent Passing Reading</th>\n",
       "      <th>Percent Overall Passing Rate</th>\n",
       "    </tr>\n",
       "    <tr>\n",
       "      <th>School Size</th>\n",
       "      <th></th>\n",
       "      <th></th>\n",
       "      <th></th>\n",
       "      <th></th>\n",
       "      <th></th>\n",
       "    </tr>\n",
       "  </thead>\n",
       "  <tbody>\n",
       "    <tr>\n",
       "      <th>Small (&lt;1000)</th>\n",
       "      <td>72.335748</td>\n",
       "      <td>71.636864</td>\n",
       "      <td>90.806867</td>\n",
       "      <td>87.557513</td>\n",
       "      <td>89.182190</td>\n",
       "    </tr>\n",
       "    <tr>\n",
       "      <th>Medium (1000-2000)</th>\n",
       "      <td>71.421650</td>\n",
       "      <td>70.720164</td>\n",
       "      <td>89.846560</td>\n",
       "      <td>86.714149</td>\n",
       "      <td>88.280354</td>\n",
       "    </tr>\n",
       "    <tr>\n",
       "      <th>Large (2000-5000)</th>\n",
       "      <td>69.751809</td>\n",
       "      <td>69.576052</td>\n",
       "      <td>84.252804</td>\n",
       "      <td>83.301185</td>\n",
       "      <td>83.776994</td>\n",
       "    </tr>\n",
       "  </tbody>\n",
       "</table>\n",
       "</div>"
      ],
      "text/plain": [
       "                    Average Math Score  Average Reading Score  \\\n",
       "School Size                                                     \n",
       "Small (<1000)                72.335748              71.636864   \n",
       "Medium (1000-2000)           71.421650              70.720164   \n",
       "Large (2000-5000)            69.751809              69.576052   \n",
       "\n",
       "                    Percent Passing Maths  Percent Passing Reading  \\\n",
       "School Size                                                          \n",
       "Small (<1000)                   90.806867                87.557513   \n",
       "Medium (1000-2000)              89.846560                86.714149   \n",
       "Large (2000-5000)               84.252804                83.301185   \n",
       "\n",
       "                    Percent Overall Passing Rate  \n",
       "School Size                                       \n",
       "Small (<1000)                          89.182190  \n",
       "Medium (1000-2000)                     88.280354  \n",
       "Large (2000-5000)                      83.776994  "
      ]
     },
     "execution_count": 35,
     "metadata": {},
     "output_type": "execute_result"
    }
   ],
   "source": [
    "school_summary[\"School Size\"] = pd.cut(school_summary[\"Total Students\"], size_bins, labels=group_names)\n",
    "grouped_size_df = school_summary.groupby([\"School Size\"])   \n",
    "size_summary_df = grouped_size_df.mean()\n",
    "\n",
    "# Display Summary\n",
    "size_summary_df[[\"Average Math Score\",\n",
    "                \"Average Reading Score\",\n",
    "                \"Percent Passing Maths\",\n",
    "                \"Percent Passing Reading\",\n",
    "                \"Percent Overall Passing Rate\"]]"
   ]
  },
  {
   "cell_type": "code",
   "execution_count": 36,
   "id": "bc5600ba",
   "metadata": {},
   "outputs": [
    {
     "data": {
      "text/html": [
       "<div>\n",
       "<style scoped>\n",
       "    .dataframe tbody tr th:only-of-type {\n",
       "        vertical-align: middle;\n",
       "    }\n",
       "\n",
       "    .dataframe tbody tr th {\n",
       "        vertical-align: top;\n",
       "    }\n",
       "\n",
       "    .dataframe thead th {\n",
       "        text-align: right;\n",
       "    }\n",
       "</style>\n",
       "<table border=\"1\" class=\"dataframe\">\n",
       "  <thead>\n",
       "    <tr style=\"text-align: right;\">\n",
       "      <th></th>\n",
       "      <th>Average Math Score</th>\n",
       "      <th>Average Reading Score</th>\n",
       "      <th>Percent Passing Maths</th>\n",
       "      <th>Percent Passing Reading</th>\n",
       "      <th>Percent Overall Passing Rate</th>\n",
       "    </tr>\n",
       "    <tr>\n",
       "      <th>School Type</th>\n",
       "      <th></th>\n",
       "      <th></th>\n",
       "      <th></th>\n",
       "      <th></th>\n",
       "      <th></th>\n",
       "    </tr>\n",
       "  </thead>\n",
       "  <tbody>\n",
       "    <tr>\n",
       "      <th>Government</th>\n",
       "      <td>69.834806</td>\n",
       "      <td>69.675929</td>\n",
       "      <td>84.462375</td>\n",
       "      <td>83.587562</td>\n",
       "      <td>84.024969</td>\n",
       "    </tr>\n",
       "    <tr>\n",
       "      <th>Independent</th>\n",
       "      <td>71.368822</td>\n",
       "      <td>70.718933</td>\n",
       "      <td>89.204043</td>\n",
       "      <td>86.247789</td>\n",
       "      <td>87.725916</td>\n",
       "    </tr>\n",
       "  </tbody>\n",
       "</table>\n",
       "</div>"
      ],
      "text/plain": [
       "             Average Math Score  Average Reading Score  Percent Passing Maths  \\\n",
       "School Type                                                                     \n",
       "Government            69.834806              69.675929              84.462375   \n",
       "Independent           71.368822              70.718933              89.204043   \n",
       "\n",
       "             Percent Passing Reading  Percent Overall Passing Rate  \n",
       "School Type                                                         \n",
       "Government                 83.587562                     84.024969  \n",
       "Independent                86.247789                     87.725916  "
      ]
     },
     "execution_count": 36,
     "metadata": {},
     "output_type": "execute_result"
    }
   ],
   "source": [
    "school_summary = school_summary.reset_index()\n",
    "grouped_type_df = school_summary.groupby([\"School Type\"])              \n",
    "type_summary_df = grouped_type_df.mean()\n",
    "\n",
    "type_summary_df[[\"Average Math Score\",\n",
    "                \"Average Reading Score\",\n",
    "                \"Percent Passing Maths\",\n",
    "                \"Percent Passing Reading\",\n",
    "                \"Percent Overall Passing Rate\"]]"
   ]
  },
  {
   "cell_type": "code",
   "execution_count": 37,
   "id": "31e006da",
   "metadata": {},
   "outputs": [
    {
     "data": {
      "text/html": [
       "<div>\n",
       "<style scoped>\n",
       "    .dataframe tbody tr th:only-of-type {\n",
       "        vertical-align: middle;\n",
       "    }\n",
       "\n",
       "    .dataframe tbody tr th {\n",
       "        vertical-align: top;\n",
       "    }\n",
       "\n",
       "    .dataframe thead th {\n",
       "        text-align: right;\n",
       "    }\n",
       "</style>\n",
       "<table border=\"1\" class=\"dataframe\">\n",
       "  <thead>\n",
       "    <tr style=\"text-align: right;\">\n",
       "      <th></th>\n",
       "      <th>9th</th>\n",
       "      <th>10th</th>\n",
       "      <th>11th</th>\n",
       "      <th>12th</th>\n",
       "    </tr>\n",
       "    <tr>\n",
       "      <th>school_name</th>\n",
       "      <th></th>\n",
       "      <th></th>\n",
       "      <th></th>\n",
       "      <th></th>\n",
       "    </tr>\n",
       "  </thead>\n",
       "  <tbody>\n",
       "  </tbody>\n",
       "</table>\n",
       "</div>"
      ],
      "text/plain": [
       "Empty DataFrame\n",
       "Columns: [9th, 10th, 11th, 12th]\n",
       "Index: []"
      ]
     },
     "execution_count": 37,
     "metadata": {},
     "output_type": "execute_result"
    }
   ],
   "source": [
    "nineth = school_data_complete[school_data_complete['year'] == '9th']\n",
    "tenth = school_data_complete[school_data_complete['year'] == '10th']\n",
    "eleventh = school_data_complete[school_data_complete['year'] == '11th']\n",
    "twelveth = school_data_complete[school_data_complete['year'] == '12th']\n",
    "nineth_grouped = nineth.groupby(['school_name'])\n",
    "tenth_grouped = tenth.groupby(['school_name'])\n",
    "eleventh_grouped = eleventh.groupby(['school_name'])\n",
    "twelveth_grouped = twelveth.groupby(['school_name'])\n",
    "math_nineth_mean = nineth_grouped['maths_score'].mean()\n",
    "math_tenth_mean = tenth_grouped['maths_score'].mean()\n",
    "math_eleventh_mean = eleventh_grouped['maths_score'].mean()\n",
    "math_twelveth_mean = twelveth_grouped['maths_score'].mean()\n",
    "\n",
    "math_by_grade = {\n",
    "    '9th': math_nineth_mean,\n",
    "    '10th': math_tenth_mean,\n",
    "    '11th': math_eleventh_mean,\n",
    "    '12th': math_twelveth_mean\n",
    "}\n",
    "\n",
    "math_byGrade_df = pd.DataFrame(math_by_grade)\n",
    "math_byGrade_df.head()"
   ]
  },
  {
   "cell_type": "code",
   "execution_count": 38,
   "id": "b804dc99",
   "metadata": {},
   "outputs": [
    {
     "data": {
      "text/html": [
       "<div>\n",
       "<style scoped>\n",
       "    .dataframe tbody tr th:only-of-type {\n",
       "        vertical-align: middle;\n",
       "    }\n",
       "\n",
       "    .dataframe tbody tr th {\n",
       "        vertical-align: top;\n",
       "    }\n",
       "\n",
       "    .dataframe thead th {\n",
       "        text-align: right;\n",
       "    }\n",
       "</style>\n",
       "<table border=\"1\" class=\"dataframe\">\n",
       "  <thead>\n",
       "    <tr style=\"text-align: right;\">\n",
       "      <th></th>\n",
       "      <th>9th</th>\n",
       "      <th>10th</th>\n",
       "      <th>11th</th>\n",
       "      <th>12th</th>\n",
       "    </tr>\n",
       "    <tr>\n",
       "      <th>school_name</th>\n",
       "      <th></th>\n",
       "      <th></th>\n",
       "      <th></th>\n",
       "      <th></th>\n",
       "    </tr>\n",
       "  </thead>\n",
       "  <tbody>\n",
       "  </tbody>\n",
       "</table>\n",
       "</div>"
      ],
      "text/plain": [
       "Empty DataFrame\n",
       "Columns: [9th, 10th, 11th, 12th]\n",
       "Index: []"
      ]
     },
     "execution_count": 38,
     "metadata": {},
     "output_type": "execute_result"
    }
   ],
   "source": [
    "nineth = school_data_complete[school_data_complete['year'] == '9th']\n",
    "tenth = school_data_complete[school_data_complete['year'] == '10th']\n",
    "eleventh = school_data_complete[school_data_complete['year'] == '11th']\n",
    "twelveth = school_data_complete[school_data_complete['year'] == '12th']\n",
    "nineth_grouped = nineth.groupby(['school_name'])\n",
    "tenth_grouped = tenth.groupby(['school_name'])\n",
    "eleventh_grouped = eleventh.groupby(['school_name'])\n",
    "twelveth_grouped = twelveth.groupby(['school_name'])\n",
    "reading_nineth_mean = nineth_grouped['reading_score'].mean()\n",
    "reading_tenth_mean = tenth_grouped['reading_score'].mean()\n",
    "reading_eleventh_mean = eleventh_grouped['reading_score'].mean()\n",
    "reading_twelveth_mean = twelveth_grouped['reading_score'].mean()\n",
    "\n",
    "reading_by_grade = {\n",
    "    '9th': math_nineth_mean,\n",
    "    '10th': math_tenth_mean,\n",
    "    '11th': math_eleventh_mean,\n",
    "    '12th': math_twelveth_mean\n",
    "}\n",
    "\n",
    "reading_byGrade_df = pd.DataFrame(reading_by_grade)\n",
    "reading_byGrade_df.head()"
   ]
  },
  {
   "cell_type": "code",
   "execution_count": null,
   "id": "d08098ed",
   "metadata": {},
   "outputs": [],
   "source": []
  },
  {
   "cell_type": "code",
   "execution_count": null,
   "id": "3ed0257f",
   "metadata": {},
   "outputs": [],
   "source": []
  }
 ],
 "metadata": {
  "kernelspec": {
   "display_name": "Python 3 (ipykernel)",
   "language": "python",
   "name": "python3"
  },
  "language_info": {
   "codemirror_mode": {
    "name": "ipython",
    "version": 3
   },
   "file_extension": ".py",
   "mimetype": "text/x-python",
   "name": "python",
   "nbconvert_exporter": "python",
   "pygments_lexer": "ipython3",
   "version": "3.9.12"
  }
 },
 "nbformat": 4,
 "nbformat_minor": 5
}
